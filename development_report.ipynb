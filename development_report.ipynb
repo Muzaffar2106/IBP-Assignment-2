{
  "nbformat": 4,
  "nbformat_minor": 0,
  "metadata": {
    "colab": {
      "provenance": [],
      "authorship_tag": "ABX9TyNpadrBw5ag49v7uZ2Edvuy",
      "include_colab_link": true
    },
    "kernelspec": {
      "name": "python3",
      "display_name": "Python 3"
    },
    "language_info": {
      "name": "python"
    }
  },
  "cells": [
    {
      "cell_type": "markdown",
      "metadata": {
        "id": "view-in-github",
        "colab_type": "text"
      },
      "source": [
        "<a href=\"https://colab.research.google.com/github/Muzaffar2106/IBP-Assignment-2/blob/main/development_report.ipynb\" target=\"_parent\"><img src=\"https://colab.research.google.com/assets/colab-badge.svg\" alt=\"Open In Colab\"/></a>"
      ]
    },
    {
      "cell_type": "markdown",
      "source": [
        "#**Pseudocode for the Enron email**"
      ],
      "metadata": {
        "id": "HIEWkfQlyNKc"
      }
    },
    {
      "cell_type": "markdown",
      "source": [
        "**Download Enron Email database**\n",
        "\n",
        "1.Use the wget! command to download the enron.db file.\n",
        "\n",
        "2.Set the output to the enron.db file."
      ],
      "metadata": {
        "id": "fEywdhIU6BEN"
      }
    },
    {
      "cell_type": "markdown",
      "source": [
        "**Establish connection to SQLite database**\n",
        "\n",
        "1.import sqlite3 module and connect with SQlite database.\n",
        "\n",
        "2.Using the sqlite.connect() function, connect enron.db to the SQlite module.\n",
        "\n",
        "3.Save the previously mentioned connection to the variable \"conn\".\n",
        "\n",
        "4.Make a cursor function to run queries in SQL on the database.\n",
        "\n",
        "5.The 'conn.cursor()' method can be used to create a cursor function.\n",
        "\n",
        "6.The \"cur\" variable is used to store the cursor function."
      ],
      "metadata": {
        "id": "9YBdGNuv6KXj"
      }
    },
    {
      "cell_type": "markdown",
      "source": [
        "**Check the Schema of database**\n",
        "\n",
        "1.Write a SQL query to retrieve information from the database enron.db.\n",
        "\n",
        "2.\"SELECT name FROM sqlite_master WHERE type='table';\"\n",
        "\n",
        "3.Utilize the 'cur' cursor function to run the SQL query. \n",
        "\n",
        "4.Utilize the function cur.fetchall() to get all the results.\n"
      ],
      "metadata": {
        "id": "FujU2BDk6Taj"
      }
    },
    {
      "cell_type": "markdown",
      "source": [
        "**Check the schema of tables**\n",
        "\n",
        "1.Write a SQL query using the SQlite PRAGMA c.\n",
        "\n",
        "2.Table name \"employeelist\"; \"message\"; \"recipientinfo\"; and \"referenceinfo\" should be added to the PRAGMA command.\n",
        "\n",
        "3.Execute the SQL query using a cursor function 'cur'.\n",
        "\n",
        "4.Utilize the cur.fetchall() function to retrieve all the results.\n",
        "\n"
      ],
      "metadata": {
        "id": "lP_1eFfE7MHQ"
      }
    },
    {
      "cell_type": "markdown",
      "source": [
        "#**Email Traffic Overtime**"
      ],
      "metadata": {
        "id": "ljoAvcm_77i9"
      }
    },
    {
      "cell_type": "markdown",
      "source": [
        "**Importing libraries**\n",
        "\n",
        "1.To read SQL queries and convert them to dataframes, import the pandas library.\n",
        "\n",
        "2.Represent pandas with the alias 'pd'.\n",
        "\n",
        "3.Import the Seaborn library for more illuminating statistics graphics and visualizations.\n",
        "\n",
        "4.Represent Seaborn using the alias'sns'.\n",
        "\n",
        "5.Import 'matplotlib.pyplot' module to produce visualization.\n",
        "\n",
        "6.Give the \"matplotlib.pyplot\" module an alias of \"plt\".\n",
        "\n",
        "\n",
        "\n",
        "\n",
        "\n"
      ],
      "metadata": {
        "id": "3Jab-iEJ8KzF"
      }
    },
    {
      "cell_type": "markdown",
      "source": [
        "**Check for null values in the data column in Message**\n",
        "\n",
        "1.Write a SQL query that selects the \"date\" field from the \"message\" table and stores it in a variable SQL\n"
      ],
      "metadata": {
        "id": "5VEq_YX99Vho"
      }
    },
    {
      "cell_type": "markdown",
      "source": [
        "**Convert data into dataframe**\n",
        "\n",
        "1.To read a SQL query, import the pandas library.\n",
        "\n",
        "2.Use the pandas module's'read_sql_query()' function.\n",
        "\n",
        "\n",
        "3.Use the'sql' variable from a SQL query and the 'conn' variable from a database connection as arguments. \n",
        "\n",
        "4.The 'read_sql_query()' method and its input arguments are saved to the'message_df' variable.\n",
        "\n",
        "5.'message_df' dataframe contents to be displayed."
      ],
      "metadata": {
        "id": "NoZJjXlE-B_s"
      }
    },
    {
      "cell_type": "markdown",
      "source": [
        "**Counting the number of emails for each day**\n",
        "\n",
        "1.With the'sql' variable, create a sql query\n",
        "\n",
        "2.To format dates legible, use the'strftime()' function and choose it.\n",
        "\n",
        "3.Date data should be formatted as '%Y-%m-%d', where %Y stands for the year, %m for the month, and %d for the day.\n",
        "\n",
        "4.Take the 'date' column from the'message' table in the enron.db database.\n",
        "\n",
        "5.The 'count(*)' function can be used to count every row in the'message' table.\n",
        "\n",
        "6.By \"date,\" group the count values."
      ],
      "metadata": {
        "id": "tbmi_nmZ-1iW"
      }
    },
    {
      "cell_type": "markdown",
      "source": [
        "**converting data into dataframe**\n",
        "\n",
        "1.Use the panda library to read the above sql query and convert into dataframe.\n",
        "\n",
        "2.Utilize the Panda module's'read_sql_query()' function.\n",
        "\n",
        "3.Use the database connection variable ('conn') and the SQL query's variable ('sql') as arguments.\n",
        "\n",
        "4.The'read_sql_query()' method and its input parameters are saved to the'messageperday_df' variable.\n",
        "\n",
        "5.'messageperday_df' dataframe contents displayed."
      ],
      "metadata": {
        "id": "pnSTF6lh_4Yu"
      }
    },
    {
      "cell_type": "markdown",
      "source": [
        "**Plot graph for email per day**\n",
        "\n",
        "1.use of the matplotlib library's 'plt.subplot()' function, which aids in the creation of figures and the plotting of their axes.\n",
        "\n",
        "2.Decide on the figure's size (20,5) and save it as a variable called \"fig\" #To make the line plot, utilize the Seaborn library.\n",
        "\n",
        "3.use the 'lineplot()' function from the Seaborn library, setting 'x=date' and 'y=count' as the parameter values.\n",
        "\n",
        "4.use the'messageperday_df' variable as your data source.\n",
        "\n",
        "5.Use the matplotlib library's'show()' method to display the line plot.\n",
        "\n"
      ],
      "metadata": {
        "id": "c-o-G7OSBTnc"
      }
    },
    {
      "cell_type": "markdown",
      "source": [
        "**Counting the number of emails for each week**"
      ],
      "metadata": {
        "id": "HPOxZAw-B9Uj"
      }
    },
    {
      "cell_type": "markdown",
      "source": [
        "1.Repeat above steps for \"counting the number of emails for each day\" and replace day by week."
      ],
      "metadata": {
        "id": "ChDXZGZoCJ3D"
      }
    },
    {
      "cell_type": "markdown",
      "source": [
        "**Counting the number of emails per month**\n",
        "\n",
        "1.Repeat above steps for \"counting the number of emails for each day\" and replace day by month."
      ],
      "metadata": {
        "id": "z0G-0XZZCbIi"
      }
    },
    {
      "cell_type": "markdown",
      "source": [
        "#**Top Senders and Recipients**\n",
        "\n"
      ],
      "metadata": {
        "id": "J7yc1YTNGXJZ"
      }
    },
    {
      "cell_type": "markdown",
      "source": [
        "**Top Senders**\n",
        "\n",
        "1.Create a SQL query using the'sql_sender' variable.\n",
        "\n",
        "2.From the message table, choose the sender column.\n",
        "\n",
        "3.The 'count(*)' function can be used to count every row in the'message' table. \n",
        "\n",
        "4.By \"sender,\" group the count values.\n",
        "By count column, sort.\n",
        "\n",
        "5.Results should be sorted in decreasing order.\n",
        "Reduce the amount of rows, for instance, LIMIT 15.\n",
        "\n",
        "\n"
      ],
      "metadata": {
        "id": "jAEV92mlGgio"
      }
    },
    {
      "cell_type": "markdown",
      "source": [
        "**converting data into dataframe**\n",
        "\n",
        "1.Use the panda library to read the previously mentioned sql query and convert into dataframe.\n",
        "\n",
        "2.utilize the Panda module's'read_sql_query()' function.\n",
        "\n",
        "3.Use the database connection-making variables 'conn' and'sql_sender' from a SQL query as arguments.\n",
        "\n",
        "4.'top_sendr_df' is a variable where the function'read_sql_query()' and its parameters are saved.\n",
        "\n",
        "5.*italicized text*'top_sendr_df' Dataframe contents displayed."
      ],
      "metadata": {
        "id": "XvpT8UuTHbwi"
      }
    },
    {
      "cell_type": "markdown",
      "source": [
        "**Plotting the bar chart**\n",
        "\n",
        "1.Use of seaborn and matplotlib to perform visualisation of data.\n",
        "\n",
        "2.Dataframe 'top_sendr_df' should be saved to the variable 'data'.\n",
        "\n",
        "3.Use the seaborn library's 'barplot()' function.\n",
        "\n",
        "4.Specify 'x=\"count\"' and 'y=\"sender\"' for the parameters.\n",
        "\n",
        "5.Use the 'data' variable as the data source.\n",
        "\n",
        "6.Using the'show()' function from the matplotlib package, display the bar graph."
      ],
      "metadata": {
        "id": "jspi3n0_IHbX"
      }
    },
    {
      "cell_type": "markdown",
      "source": [
        "**Top Recipients**\n",
        "\n",
        "1.Write a SQL query using the'sql_recipt' variable.\n",
        "\n",
        "2.Select the recipientinfo table's rvalue column.\n",
        "\n",
        "3.The 'count(*)' function can be used to count every row in the'recipientinfo' database.\n",
        "\n",
        "4.'rvalue' is used to group the count values.\n",
        "\n",
        "5.By count column, sort.\n",
        "\n",
        "6.Results should be sorted in decreasing order.\n",
        "Reduce the amount of rows, for instance, LIMIT 10."
      ],
      "metadata": {
        "id": "mkK8mZPQIwYU"
      }
    },
    {
      "cell_type": "markdown",
      "source": [
        "**converting data into dataframe**\n",
        "\n",
        "1.Use the panda library to read the previously mentioned sql query and convert into dataframe.\n",
        "\n",
        "2.dataframe using the panda library.\n",
        "\n",
        "3.Utilize the Panda module's'read_sql_query()' function.\n",
        "\n",
        "4.Use the database connection variable 'conn' and the SQL query variable'sql_recipt' as arguments.\n",
        "\n",
        "5.Save the method and its arguments from the'read_sql_query()' call to the 'top_recipt_df' variable.\n",
        "\n",
        "```\n",
        "# This is formatted as code\n",
        "```\n",
        "\n",
        "\n",
        "\n",
        "6.'top_recipt_df' dataframe contents displayed.\n"
      ],
      "metadata": {
        "id": "4kTlhoBWJ8Aj"
      }
    },
    {
      "cell_type": "markdown",
      "source": [
        "**Plotting the bar chart**\n",
        "\n",
        "1.Use of seaborn and matplotlib to perform visualisation of data.\n",
        "\n",
        "2.Dataframe 'top_recipt_df' should be saved to the variable 'data'.\n",
        "\n",
        "3.Use the seaborn library's 'barplot()' function.\n",
        "\n",
        "4.specify 'x=\"count\"' and 'y=\"rvalue\"' for the parameters.\n",
        "5.Use the 'data' variable as the data source.\n",
        "\n",
        "6.Using the'show()' function from the matplotlib package, display the bar graph."
      ],
      "metadata": {
        "id": "b7uZ5DOJKiME"
      }
    },
    {
      "cell_type": "markdown",
      "source": [
        "#**Email Distribution by Recipient Type**\n",
        " "
      ],
      "metadata": {
        "id": "beuuQ1UjLOFJ"
      }
    },
    {
      "cell_type": "markdown",
      "source": [
        "1.Write a SQL query using the'sql_recipients_type' variable.\n",
        "\n",
        "2.Select the recipientinfo table's rtype column.\n",
        "\n",
        "3.The 'count(*)' function can be used to count every row in the'recipientinfo' database.\n",
        "\n",
        "4.'rtype' should be used to group the count values.\n",
        "\n",
        "5.Sort by rtype."
      ],
      "metadata": {
        "id": "eLR2NN7eLZ_1"
      }
    },
    {
      "cell_type": "markdown",
      "source": [
        "**converting data into dataframe**\n",
        "\n",
        "1.Use the panda library to read the above sql query and convert data into dataframe.\n",
        "\n",
        "2.utilize the Panda module's'read_sql_query()' function.\n",
        "\n",
        "3.Use the SQL query's variable'sql_recipients_type' and the variable 'conn' that establishes the database connection as parameters.\n",
        "\n",
        "4.The'read_sql_query()' method and its arguments are saved to the'recipt_type_df' variable.\n",
        "\n",
        "5.Display the data in the dataframe'recipt_type_df'."
      ],
      "metadata": {
        "id": "uTicAr52L93q"
      }
    },
    {
      "cell_type": "markdown",
      "source": [
        "**generating a pie chart for the data**\n",
        "\n",
        "1.Use the 'rtype' column from the dataframe'recipt_type_df' as the value for the variable 'labels'.\n",
        "\n",
        "2.'count' column from the dataframe'recipt_type_df' should be used as the values for the variable 'values'.\n",
        "\n",
        "3.To build the pie chart, use the matplotlib library.\n",
        "\n",
        "4.Use the matplotlib library's 'pie()' function.\n",
        "\n",
        "5.To print the results as percentages, set the arguments to 'values', 'labels=labels', and 'autopct='%1.1f%%'.\n",
        "\n",
        "6.Use the matplotlib library's 'title()' function to set the title to 'Email Distribution by Recipient Type'.\n",
        "\n",
        "7.Use the matplotlib library's show() method to display the pie chart.\n"
      ],
      "metadata": {
        "id": "B5-tzz-EMvO7"
      }
    },
    {
      "cell_type": "markdown",
      "source": [
        "#**Testing**"
      ],
      "metadata": {
        "id": "nrT0AuwSNggB"
      }
    },
    {
      "cell_type": "markdown",
      "source": [
        "Several coding problems occurred during the writing the codes' script and need to be tested. Here are a few mistakes that happened:\n"
      ],
      "metadata": {
        "id": "eFL9X9DhNtiM"
      }
    },
    {
      "cell_type": "markdown",
      "source": [
        "**Import Error** \n",
        "\n",
        "This type of error occur when importing modules or libraries, you may see import errors. The module may not be installed or its name may be spelled incorrectly, which can result in this problem. For instance, typing \"import seeborn\" instead of \"import seaborn\" \n",
        "\n",
        "**solution:**\n",
        "\n",
        "-Verify module installation.\n",
        "\n",
        "-Check the module name.\n",
        "\n",
        "-Verify the compatibility of the module\n",
        "\n",
        "-Run cell after correction \n"
      ],
      "metadata": {
        "id": "XNEwIDJ9N_3D"
      }
    },
    {
      "cell_type": "markdown",
      "source": [
        "**Syntax Error**\n",
        "\n",
        "This happen when you use syntax that is against the norms of the programming language. Syntax mistakes can arise from missing parentheses or brackets, improper indentation, or misspelled keywords. In my case, there were misspelled keyowrds and missing parentheses which lead to syntax error.\n",
        "\n",
        "**solution:**\n",
        "\n",
        "-Go through the error message.\n",
        "\n",
        "-Check for typos errors.\n",
        "\n",
        "-Review the line(s) that mentioned in the error message.\n",
        "\n",
        "-Check the quotations, brackets, and parenthesis.\n",
        "\n",
        "-Run cell after correction.\n",
        "\n",
        "\n"
      ],
      "metadata": {
        "id": "0pLwE0bQYZPF"
      }
    },
    {
      "cell_type": "markdown",
      "source": [
        "**Name Error**\n",
        "\n",
        "This mistake happen when you call a function or variable that isn't defined or that isn't available in the current scope. This can occur if the variable name is typed incorrectly or if it is out of scope. Hence, when i wrote my code variables were misspelled and thus not been recognised.\n",
        "\n",
        "**solution:**\n",
        "\n",
        "-Check the error message.\n",
        "\n",
        "-Verify variable and function names.\n",
        "\n",
        "-Check the scope.\n",
        "\n",
        "-Use of print statements.\n",
        "\n",
        "-Check the code execution sequence.\n",
        "\n",
        "-Run cell after correction.\n"
      ],
      "metadata": {
        "id": "uaoEynG2h5S8"
      }
    }
  ]
}